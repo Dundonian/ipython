{
 "metadata": {
  "name": ""
 },
 "nbformat": 3,
 "nbformat_minor": 0,
 "worksheets": [
  {
   "cells": [
    {
     "cell_type": "code",
     "collapsed": false,
     "input": [
      "#Whiskas optimization problem\n",
      "import pulp\n",
      "#initialise the model\n",
      "whiskas_model = pulp.LpProblem('The Whiskas Problem', pulp.LpMinimize)\n",
      "# make a list of ingredients\n",
      "ingredients = ['chicken', 'beef', 'mutton', 'rice', 'wheat', 'gel']\n",
      "# create a dictionary of pulp variables with keys from ingredients\n",
      "# the default lower bound is -inf\n",
      "x = pulp.LpVariable.dict('x_%s', ingredients, lowBound =0)\n",
      "\n",
      "# cost data\n",
      "cost = dict(zip(ingredients, [0.013, 0.008, 0.010, 0.002, 0.005, 0.001]))\n",
      "# create the objective\n",
      "whiskas_model += sum( [cost[i] * x[i] for i in ingredients])\n",
      "\n",
      "# ingredient parameters\n",
      "protein = dict(zip(ingredients, [0.100, 0.200, 0.150, 0.000, 0.040, 0.000]))\n",
      "fat = dict(zip(ingredients, [0.080, 0.100, 0.110, 0.010, 0.010, 0.000]))\n",
      "fibre = dict(zip(ingredients, [0.001, 0.005, 0.003, 0.100, 0.150, 0.000]))\n",
      "salt = dict(zip(ingredients, [0.002, 0.005, 0.007, 0.002, 0.008, 0.000]))\n",
      "#note these are constraints and not an objective as there is a equality/inequality\n",
      "whiskas_model += sum([protein[i]*x[i] for i in ingredients]) >= 8.0\n",
      "whiskas_model += sum([fat[i]*x[i] for i in ingredients]) >= 6.0\n",
      "whiskas_model += sum([fibre[i]*x[i] for i in ingredients]) <= 2.0\n",
      "whiskas_model += sum([salt[i]*x[i] for i in ingredients]) <= 0.4\n",
      "\n",
      "#problem is then solved with the default solver\n",
      "whiskas_model.solve()\n",
      "#print the result\n",
      "for ingredient in ingredients:\n",
      "\tprint 'The mass of %s is %s grams per can'%(ingredient, x[ingredient].value())"
     ],
     "language": "python",
     "metadata": {},
     "outputs": [
      {
       "output_type": "stream",
       "stream": "stdout",
       "text": [
        "The mass of chicken is 0.0 grams per can\n",
        "The mass of beef is 60.0 grams per can\n",
        "The mass of mutton is 0.0 grams per can\n",
        "The mass of rice is 0.0 grams per can\n",
        "The mass of wheat is 0.0 grams per can\n",
        "The mass of gel is 0.0 grams per can\n"
       ]
      }
     ],
     "prompt_number": 1
    },
    {
     "cell_type": "code",
     "collapsed": false,
     "input": [
      "#Beer distribution problem\n",
      "\n",
      "#The Beer Distribution Problem for the PuLP Modeller\n",
      "\n",
      "# Import PuLP modeler functions\n",
      "import pulp\n",
      "# Creates a list of all the supply nodes\n",
      "warehouses = [\"A\", \"B\"]\n",
      "# Creates a dictionary for the number of units of supply for each supply node\n",
      "supply = {\"A\": 1000,\n",
      "\"B\": 4000}\n",
      "# Creates a list of all demand nodes\n",
      "bars = [\"1\", \"2\", \"3\", \"4\", \"5\"]\n",
      "# Creates a dictionary for the number of units of demand for each demand node\n",
      "demand = {\"1\":500,\n",
      "\"2\":900,\n",
      "\"3\":1800,\n",
      "\"4\":200,\n",
      "\"5\":700,}\n",
      "# Creates a list of costs of each transportation path\n",
      "costs = [ #Bars\n",
      "#1 2 3 4 5\n",
      "[2,4,5,2,1],#A Warehouses\n",
      "[3,1,3,2,3] #B\n",
      "]\n",
      "# The cost data is made into a dictionary\n",
      "costs = pulp.makeDict([warehouses, bars], costs,0)\n",
      "# Creates the 'prob' variable to contain the problem data\n",
      "prob = pulp.LpProblem(\"Beer Distribution Problem\", pulp.LpMinimize)\n",
      "# Creates a list of tuples containing all the possible routes for transport\n",
      "routes = [(w,b) for w in warehouses for b in bars]\n",
      "# A dictionary called x is created to contain quantity shipped on the routes\n",
      "x = pulp.LpVariable.dicts(\"route\", (warehouses, bars), lowBound = 0, cat = pulp.LpInteger)\n",
      "# The objective function is added to 'prob' first\n",
      "prob += sum([x[w][b]*costs[w][b] for (w,b) in routes]), \\\n",
      "\t\"Sum_of_Transporting_Costs\"\n",
      "# Supply maximum constraints are added to prob for each supply node (warehouse)\n",
      "for w in warehouses:\n",
      "\tprob += sum([x[w][b] for b in bars]) <= supply[w], \\\n",
      "\t\t\"Sum_of_Products_out_of_Warehouse_%s\"%w\n",
      "# Demand minimum constraints are added to prob for each demand node (bar)\n",
      "for b in bars:\n",
      "\tprob += sum([x[w][b] for w in warehouses]) >= demand[b], \\\n",
      "\t\t\"Sum_of_Products_into_Bar%s\"%b\n",
      "# The problem data is written to an .lp file\n",
      "prob.writeLP(\"BeerDistributionProblem.lp\")\n",
      "# The problem is solved using PuLP's choice of Solver\n",
      "prob.solve()\n",
      "# The status of the solution is printed to the screen\n",
      "print \"Status:\", pulp.LpStatus[prob.status]\n",
      "# Each of the variables is printed with it's resolved optimum value\n",
      "for v in prob.variables():\n",
      "\tprint v.name, \"=\", v.varValue\n",
      "# The optimised objective function value is printed to the screen\n",
      "print \"Total Cost of Transportation = \", prob.objective.value()\n"
     ],
     "language": "python",
     "metadata": {},
     "outputs": [
      {
       "output_type": "stream",
       "stream": "stdout",
       "text": [
        "Status: Optimal\n",
        "route_A_1 = 300.0\n",
        "route_A_2 = 0.0\n",
        "route_A_3 = 0.0\n",
        "route_A_4 = 0.0\n",
        "route_A_5 = 700.0\n",
        "route_B_1 = 200.0\n",
        "route_B_2 = 900.0\n",
        "route_B_3 = 1800.0\n",
        "route_B_4 = 200.0\n",
        "route_B_5 = 0.0\n",
        "Total Cost of Transportation =  8600.0\n"
       ]
      }
     ],
     "prompt_number": 2
    },
    {
     "cell_type": "code",
     "collapsed": false,
     "input": [],
     "language": "python",
     "metadata": {},
     "outputs": []
    }
   ],
   "metadata": {}
  }
 ]
}